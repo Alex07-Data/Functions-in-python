{
 "cells": [
  {
   "cell_type": "markdown",
   "id": "67a9baa1",
   "metadata": {},
   "source": [
    "Functions \n",
    "Types of functions \n",
    "1. Built-in functions: print()\n",
    "2. User-defined functions: defmy_function(): pass\n",
    "3. Lambda functions: lambda x:x + 1\n",
    "4. Standard library functions: math.sqrt()\n",
    "5. Third_part library functions: numpy.array()"
   ]
  },
  {
   "cell_type": "markdown",
   "id": "fc396644",
   "metadata": {},
   "source": [
    "User_defined functions"
   ]
  },
  {
   "cell_type": "code",
   "execution_count": null,
   "id": "a12097d7",
   "metadata": {},
   "outputs": [],
   "source": [
    "#Calculate total_salary of base_salary * (1 + bonus_rate)\n",
    "def calculate_salary(base_salary, bonus_rate):\n",
    "\n",
    "    total_salary = base_salary * (1 + bonus_rate)\n",
    "\n",
    "    return total_salary"
   ]
  },
  {
   "cell_type": "code",
   "execution_count": 3,
   "id": "0fe94835",
   "metadata": {},
   "outputs": [
    {
     "data": {
      "text/plain": [
       "110000.00000000001"
      ]
     },
     "execution_count": 3,
     "metadata": {},
     "output_type": "execute_result"
    }
   ],
   "source": [
    "Salary_1 = 100000\n",
    "rate_1 = 0.1\n",
    "calculate_salary(Salary_1, rate_1)"
   ]
  },
  {
   "cell_type": "markdown",
   "id": "f620648d",
   "metadata": {},
   "source": [
    "Lambda functions \n",
    "can be used in filtering"
   ]
  },
  {
   "cell_type": "code",
   "execution_count": 6,
   "id": "4d63b682",
   "metadata": {},
   "outputs": [
    {
     "data": {
      "text/plain": [
       "[110000.00000000001,\n",
       " 220000.00000000003,\n",
       " 165000.0,\n",
       " 132000.0,\n",
       " 88000.0,\n",
       " 825000.0000000001]"
      ]
     },
     "execution_count": 6,
     "metadata": {},
     "output_type": "execute_result"
    }
   ],
   "source": [
    "salary_list = [100000, 200000, 150000, 120000, 80000, 750000]\n",
    "\n",
    "#Calculate total_salary of base_salary * (1 + bonus_rate)\n",
    "#def calculate_salary(base_salary, bonus_rate=.1):\n",
    "# return base_salary * (1 + bonus_rate)\n",
    "\n",
    "total_salary_list = [(lambda x: x * 1.1)(salary) for salary in salary_list]\n",
    "\n",
    "total_salary_list"
   ]
  },
  {
   "cell_type": "markdown",
   "id": "3ca776bf",
   "metadata": {},
   "source": [
    "Modules\n"
   ]
  },
  {
   "cell_type": "code",
   "execution_count": null,
   "id": "7e03303c",
   "metadata": {},
   "outputs": [],
   "source": []
  }
 ],
 "metadata": {
  "kernelspec": {
   "display_name": "Python 3",
   "language": "python",
   "name": "python3"
  },
  "language_info": {
   "codemirror_mode": {
    "name": "ipython",
    "version": 3
   },
   "file_extension": ".py",
   "mimetype": "text/x-python",
   "name": "python",
   "nbconvert_exporter": "python",
   "pygments_lexer": "ipython3",
   "version": "3.13.2"
  }
 },
 "nbformat": 4,
 "nbformat_minor": 5
}
